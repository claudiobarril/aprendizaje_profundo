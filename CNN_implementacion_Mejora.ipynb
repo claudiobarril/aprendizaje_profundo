{
  "nbformat": 4,
  "nbformat_minor": 0,
  "metadata": {
    "colab": {
      "provenance": [],
      "gpuType": "T4",
      "include_colab_link": true
    },
    "kernelspec": {
      "name": "python3",
      "display_name": "Python 3"
    },
    "language_info": {
      "name": "python"
    },
    "accelerator": "GPU"
  },
  "cells": [
    {
      "cell_type": "markdown",
      "metadata": {
        "id": "view-in-github",
        "colab_type": "text"
      },
      "source": [
        "<a href=\"https://colab.research.google.com/github/claudiobarril/aprendizaje_profundo/blob/main/CNN_implementacion_Mejora.ipynb\" target=\"_parent\"><img src=\"https://colab.research.google.com/assets/colab-badge.svg\" alt=\"Open In Colab\"/></a>"
      ]
    },
    {
      "cell_type": "markdown",
      "metadata": {
        "id": "_wIQ8hjDpdVi"
      },
      "source": [
        "# Importar lo necesario"
      ]
    },
    {
      "cell_type": "code",
      "metadata": {
        "id": "uHQUjDs12DLW"
      },
      "source": [
        "import torch\n",
        "import torchvision\n",
        "import numpy as np\n",
        "import random\n",
        "import matplotlib.pyplot as plt\n",
        "from torchsummary import summary # para ver los parametros y tamaños intermedios del modelo\n",
        "from tqdm import tqdm # para graficar la barra de avance"
      ],
      "execution_count": null,
      "outputs": []
    },
    {
      "cell_type": "code",
      "source": [
        "!pip install torchinfo\n",
        "import torchinfo as torchinfo"
      ],
      "metadata": {
        "colab": {
          "base_uri": "https://localhost:8080/"
        },
        "id": "biK7BQSsgEM0",
        "outputId": "b4d878e1-3b46-482c-f8c9-34969c208792"
      },
      "execution_count": null,
      "outputs": [
        {
          "output_type": "stream",
          "name": "stdout",
          "text": [
            "Collecting torchinfo\n",
            "  Downloading torchinfo-1.8.0-py3-none-any.whl.metadata (21 kB)\n",
            "Downloading torchinfo-1.8.0-py3-none-any.whl (23 kB)\n",
            "Installing collected packages: torchinfo\n",
            "Successfully installed torchinfo-1.8.0\n"
          ]
        }
      ]
    },
    {
      "cell_type": "markdown",
      "metadata": {
        "id": "QeJy8fjPn4wi"
      },
      "source": [
        "#### configuramos el `device` acorde al device disponible\n",
        "\n",
        "\n"
      ]
    },
    {
      "cell_type": "code",
      "metadata": {
        "id": "lOV9xybtn4I3"
      },
      "source": [
        "device = \"cuda\" if torch.cuda.is_available() else \"cpu\""
      ],
      "execution_count": null,
      "outputs": []
    },
    {
      "cell_type": "code",
      "source": [
        "device"
      ],
      "metadata": {
        "colab": {
          "base_uri": "https://localhost:8080/",
          "height": 55
        },
        "id": "OoKY2qZRlR71",
        "outputId": "f9754879-0b47-48d8-d6a6-af6eaec32bb2"
      },
      "execution_count": null,
      "outputs": [
        {
          "output_type": "execute_result",
          "data": {
            "text/plain": [
              "'cuda'"
            ],
            "application/vnd.google.colaboratory.intrinsic+json": {
              "type": "string"
            }
          },
          "metadata": {},
          "execution_count": 4
        }
      ]
    },
    {
      "cell_type": "markdown",
      "metadata": {
        "id": "3_tH9u082jpZ"
      },
      "source": [
        "\n",
        "#**MNIST data base**\n",
        "# Ejemplo de red neuronal de convolución (CNN)\n",
        "\n",
        "Vamos a usar la base de datos de MNIST ([ver fuente](http://yann.lecun.com/exdb/mnist/)) para entrenar una CNN que identifique números escritos a mano.\n",
        "\n",
        "Para esto necesitamos:\n",
        "\n",
        "\n",
        "1.   Cargar la base de datos.\n",
        "2.   Ver que la base de datos esté ok.\n",
        "3.   Construir nuestra CNN.\n",
        "4. Ver que las dimensiones de la red sean consistentes.\n",
        "4.   Definir funciones necesarias (de entrenamiento, de costo, etc.).\n",
        "5. Entrenar la red.\n",
        "6. Ver que funcione.\n",
        "\n",
        "\n",
        "\n",
        "\n"
      ]
    },
    {
      "cell_type": "markdown",
      "metadata": {
        "id": "1nQ-MLk6Do8e"
      },
      "source": [
        "## 1. Cargar base de datos\n",
        "\n",
        "De la documentación, ver:\n",
        "\n",
        "\n",
        "Transformación `torchvision.transforms.ToTensor()`\n",
        "\n",
        "```\n",
        "... Converts a PIL Image or numpy.ndarray (H x W x C) in the range [0, 255] to a torch.FloatTensor of shape (C x H x W) in the range [0.0, 1.0]...\n",
        "```\n",
        "\n",
        "Transformación `Normalize`\n",
        "\n",
        "```\n",
        "... Normalize a tensor image with mean and standard deviation. ...\n",
        "```"
      ]
    },
    {
      "cell_type": "code",
      "metadata": {
        "id": "8JvzatGF4e0W",
        "colab": {
          "base_uri": "https://localhost:8080/"
        },
        "outputId": "e3cc4df6-325d-4244-d217-4cab912a078b"
      },
      "source": [
        "# primero creamos el dataset\n",
        "train_dataset = torchvision.datasets.MNIST('../data', train=True, download=True,\n",
        "                       transform=torchvision.transforms.Compose([\n",
        "                            torchvision.transforms.ToTensor(),#<---------------- escala entre 0 y 1; pasa a tensor; poner canal en 1ra dim\n",
        "                            torchvision.transforms.Normalize((0.1307,), (0.3081,))\n",
        "                            ])\n",
        "                      )\n",
        "\n",
        "test_dataset = torchvision.datasets.MNIST('../data', train=False,\n",
        "                   transform=torchvision.transforms.Compose([\n",
        "                        torchvision.transforms.ToTensor(), #<------------------- escala entre 0 y 1; pasa a tensor; poner canal en 1ra dim\n",
        "                        torchvision.transforms.Normalize((0.1307,), (0.3081,))\n",
        "                        ])\n",
        "                     )\n",
        "\n",
        "# ahora el dataloader\n",
        "dataloader = {\n",
        "    'train': torch.utils.data.DataLoader(train_dataset, batch_size=64, shuffle=True, pin_memory=True),\n",
        "    'test': torch.utils.data.DataLoader(test_dataset, batch_size=64, shuffle=False, pin_memory=True)\n",
        "}"
      ],
      "execution_count": null,
      "outputs": [
        {
          "output_type": "stream",
          "name": "stdout",
          "text": [
            "Downloading http://yann.lecun.com/exdb/mnist/train-images-idx3-ubyte.gz\n",
            "Failed to download (trying next):\n",
            "HTTP Error 403: Forbidden\n",
            "\n",
            "Downloading https://ossci-datasets.s3.amazonaws.com/mnist/train-images-idx3-ubyte.gz\n",
            "Downloading https://ossci-datasets.s3.amazonaws.com/mnist/train-images-idx3-ubyte.gz to ../data/MNIST/raw/train-images-idx3-ubyte.gz\n"
          ]
        },
        {
          "output_type": "stream",
          "name": "stderr",
          "text": [
            "100%|██████████| 9.91M/9.91M [00:00<00:00, 17.5MB/s]\n"
          ]
        },
        {
          "output_type": "stream",
          "name": "stdout",
          "text": [
            "Extracting ../data/MNIST/raw/train-images-idx3-ubyte.gz to ../data/MNIST/raw\n",
            "\n",
            "Downloading http://yann.lecun.com/exdb/mnist/train-labels-idx1-ubyte.gz\n",
            "Failed to download (trying next):\n",
            "HTTP Error 403: Forbidden\n",
            "\n",
            "Downloading https://ossci-datasets.s3.amazonaws.com/mnist/train-labels-idx1-ubyte.gz\n",
            "Downloading https://ossci-datasets.s3.amazonaws.com/mnist/train-labels-idx1-ubyte.gz to ../data/MNIST/raw/train-labels-idx1-ubyte.gz\n"
          ]
        },
        {
          "output_type": "stream",
          "name": "stderr",
          "text": [
            "100%|██████████| 28.9k/28.9k [00:00<00:00, 482kB/s]\n"
          ]
        },
        {
          "output_type": "stream",
          "name": "stdout",
          "text": [
            "Extracting ../data/MNIST/raw/train-labels-idx1-ubyte.gz to ../data/MNIST/raw\n",
            "\n",
            "Downloading http://yann.lecun.com/exdb/mnist/t10k-images-idx3-ubyte.gz\n",
            "Failed to download (trying next):\n",
            "HTTP Error 403: Forbidden\n",
            "\n",
            "Downloading https://ossci-datasets.s3.amazonaws.com/mnist/t10k-images-idx3-ubyte.gz\n",
            "Downloading https://ossci-datasets.s3.amazonaws.com/mnist/t10k-images-idx3-ubyte.gz to ../data/MNIST/raw/t10k-images-idx3-ubyte.gz\n"
          ]
        },
        {
          "output_type": "stream",
          "name": "stderr",
          "text": [
            "100%|██████████| 1.65M/1.65M [00:00<00:00, 3.80MB/s]\n"
          ]
        },
        {
          "output_type": "stream",
          "name": "stdout",
          "text": [
            "Extracting ../data/MNIST/raw/t10k-images-idx3-ubyte.gz to ../data/MNIST/raw\n",
            "\n",
            "Downloading http://yann.lecun.com/exdb/mnist/t10k-labels-idx1-ubyte.gz\n",
            "Failed to download (trying next):\n",
            "HTTP Error 403: Forbidden\n",
            "\n",
            "Downloading https://ossci-datasets.s3.amazonaws.com/mnist/t10k-labels-idx1-ubyte.gz\n",
            "Downloading https://ossci-datasets.s3.amazonaws.com/mnist/t10k-labels-idx1-ubyte.gz to ../data/MNIST/raw/t10k-labels-idx1-ubyte.gz\n"
          ]
        },
        {
          "output_type": "stream",
          "name": "stderr",
          "text": [
            "100%|██████████| 4.54k/4.54k [00:00<00:00, 10.8MB/s]\n"
          ]
        },
        {
          "output_type": "stream",
          "name": "stdout",
          "text": [
            "Extracting ../data/MNIST/raw/t10k-labels-idx1-ubyte.gz to ../data/MNIST/raw\n",
            "\n"
          ]
        }
      ]
    },
    {
      "cell_type": "markdown",
      "metadata": {
        "id": "oikthAE4Dteb"
      },
      "source": [
        "## 2. Ver que la base de datos esté OK"
      ]
    },
    {
      "cell_type": "code",
      "metadata": {
        "colab": {
          "base_uri": "https://localhost:8080/"
        },
        "id": "cyq2UFIl-Qjy",
        "outputId": "47636ff7-bb1d-4502-9ae1-0216a26ce8fe"
      },
      "source": [
        "print(type(dataloader))\n",
        "print(type(dataloader['train']))"
      ],
      "execution_count": null,
      "outputs": [
        {
          "output_type": "stream",
          "name": "stdout",
          "text": [
            "<class 'dict'>\n",
            "<class 'torch.utils.data.dataloader.DataLoader'>\n"
          ]
        }
      ]
    },
    {
      "cell_type": "code",
      "source": [
        "# Ver imagen and label del dataloader (dataloader -> una herramienta para hacer batches de datasets)\n",
        "train_features, train_labels = next(iter(dataloader['train']))"
      ],
      "metadata": {
        "id": "3dVPXQRch4xV"
      },
      "execution_count": null,
      "outputs": []
    },
    {
      "cell_type": "code",
      "metadata": {
        "colab": {
          "base_uri": "https://localhost:8080/"
        },
        "id": "p2fs6Qdivs1H",
        "outputId": "3d040afe-84ab-43e5-aa6d-a38ff661fe8b"
      },
      "source": [
        "# verifico sus dimensiones\n",
        "print(f\"Tamaño del batch de feature (input / imagen): {train_features.size()}\")\n",
        "print(f\"Tamaño del batch del label (clase / etiqueta): {train_labels.size()}\")\n"
      ],
      "execution_count": null,
      "outputs": [
        {
          "output_type": "stream",
          "name": "stdout",
          "text": [
            "Tamaño del batch de feature (input / imagen): torch.Size([64, 1, 28, 28])\n",
            "Tamaño del batch del label (clase / etiqueta): torch.Size([64])\n"
          ]
        }
      ]
    },
    {
      "cell_type": "code",
      "source": [
        "\n",
        "# tomo 1 imagen para poder visualizarla\n",
        "# y verifico sus dimensiones\n",
        "\n",
        "img = train_features[5]\n",
        "print('tamaño de 1 imagen: ', img.shape)\n",
        "# le QUITO 1 dimension (la del tamaño del batch) para poder graficar\n",
        "img = img.squeeze()\n",
        "print('tamaño de 1 imagen DESPUES de squeeze: ', img.shape)\n",
        "label = train_labels[5]\n",
        "\n",
        "# ploteo esa imagen\n",
        "plt.imshow(img, cmap=\"gray\")\n",
        "plt.show()\n",
        "print(f\"Label: {label}\")"
      ],
      "metadata": {
        "id": "rfK_dXQdI2C6",
        "colab": {
          "base_uri": "https://localhost:8080/",
          "height": 502
        },
        "outputId": "e2b6f450-682d-421b-854a-4833312688b2"
      },
      "execution_count": null,
      "outputs": [
        {
          "output_type": "stream",
          "name": "stdout",
          "text": [
            "tamaño de 1 imagen:  torch.Size([1, 28, 28])\n",
            "tamaño de 1 imagen DESPUES de squeeze:  torch.Size([28, 28])\n"
          ]
        },
        {
          "output_type": "display_data",
          "data": {
            "text/plain": [
              "<Figure size 640x480 with 1 Axes>"
            ],
            "image/png": "[encoded data removed]"
          },
          "metadata": {}
        },
        {
          "output_type": "stream",
          "name": "stdout",
          "text": [
            "Label: 6\n"
          ]
        }
      ]
    },
    {
      "cell_type": "code",
      "source": [
        "print('pixel [0,0]: ',img[0][0])\n",
        "print('pixel maximo: ', torch.max(img))\n",
        "print('pixel minimo: ', torch.min(img))"
      ],
      "metadata": {
        "colab": {
          "base_uri": "https://localhost:8080/"
        },
        "id": "vFnOkkTgYTHV",
        "outputId": "2fdc6a31-9916-48f6-fe45-b231ff8f5eba"
      },
      "execution_count": null,
      "outputs": [
        {
          "output_type": "stream",
          "name": "stdout",
          "text": [
            "pixel [0,0]:  tensor(-0.4242)\n",
            "pixel maximo:  tensor(2.8215)\n",
            "pixel minimo:  tensor(-0.4242)\n"
          ]
        }
      ]
    },
    {
      "cell_type": "markdown",
      "source": [
        "## 3. Construyo mi CNN"
      ],
      "metadata": {
        "id": "hLDYgFptiqPd"
      }
    },
    {
      "cell_type": "markdown",
      "metadata": {
        "id": "EY0TN4erDxRd"
      },
      "source": [
        "#### Bloque de convolución\n",
        "\n",
        "defino primero un \"bloque\" de una capa CNN\n",
        "construido con los bloques funcionales vistos en clase\n",
        "\n",
        "argumentos a pasar a la función:\n",
        "\n",
        "  - `c_in`:   canales (kernels) de entrada\n",
        "  - `c_out`:  canales (kernels) de salida\n",
        "  - `k`:      tamaño del kernel kxk\n",
        "  - `p`:      tamaño del padding de la convolución\n",
        "  - `s`:      stride de la convolución\n",
        "  - `pk`:     tamaño del kernel del pooling\n",
        "\n",
        "\n",
        "la función pooling se elige directamente dentro del bloque!"
      ]
    },
    {
      "cell_type": "code",
      "source": [
        "# bloque de convolución para emplear en mi red\n",
        "\n",
        "def conv_block(c_in, c_out, k=3, p='same', s=1, pk=2):\n",
        "    return torch.nn.Sequential(                               # el módulo Sequential se engarga de hacer el forward de todo lo que tiene dentro.\n",
        "        torch.nn.Conv2d(c_in, c_out, k, padding=p, stride=s), # conv\n",
        "        torch.nn.Tanh(),                                      # activation\n",
        "        torch.nn.MaxPool2d(pk)                                # pooling\n",
        "    )\n"
      ],
      "metadata": {
        "id": "qMxa2DAsim9t"
      },
      "execution_count": null,
      "outputs": []
    },
    {
      "cell_type": "markdown",
      "source": [
        "### Red convolucional (modelo)\n",
        "\n",
        "\n",
        "Ahora SI construyo mi red... usando la clase CNN de pytorch\n",
        "revisar muy bien las dimensiones a emplear en cada capa y\n",
        "tener presente la reducción de las dimensiones.\n",
        "\n",
        "En la útlima capa fully conected `fc`, hacer bien el cálculo final del\n",
        "tamaño del array que se obtiene siguiendo la formula vista en la teoria\n",
        "tanto para la capa conv como para la capa pooling."
      ],
      "metadata": {
        "id": "PgPfrY8VivH8"
      }
    },
    {
      "cell_type": "code",
      "metadata": {
        "id": "JrO5gfEL3KRC"
      },
      "source": [
        "class CNN(torch.nn.Module):\n",
        "  def __init__(self, n_channels=1, n_outputs=10):\n",
        "    super().__init__()\n",
        "    self.conv1 = conv_block(c_in = n_channels, c_out = 4, k=3, p='same', s=1, pk=2)\n",
        "    self.conv1_out = None\n",
        "    self.drop = torch.nn.Dropout2d(p=0.7, inplace=False)\n",
        "    self.conv2 = conv_block(c_in = 4, c_out = 8, k=3, p='same', s=1, pk=2)\n",
        "    self.conv2_out = None\n",
        "    self.fc = torch.nn.Linear(8*7*7, n_outputs) # verificar la dim de la salida para calcular el tamaño de la fully conected!!\n",
        "\n",
        "\n",
        "    print('Red creada')\n",
        "    print('arquitectura:')\n",
        "    print(self)\n",
        "\n",
        "    # Me fijo en el número de capas\n",
        "    i=0\n",
        "    for layer in self.children():\n",
        "        i=i+1\n",
        "    print('Número total de capas de CNN (conv+act+polling) + finales : ', i)\n",
        "\n",
        "    # Me fijo en el número de parámetros entrenables\n",
        "    pytorch_total_params = sum(p.numel() for p in self.parameters() if p.requires_grad)\n",
        "    print('Número total de parámetros a entrenar: ', pytorch_total_params)\n",
        "\n",
        "\n",
        "  def forward(self, x):\n",
        "    #print('input shape: ', x.shape)\n",
        "    self.conv1_out = self.drop(self.conv1(x))\n",
        "    self.conv2_out = self.drop(self.conv2(self.conv1_out))\n",
        "    y = self.conv2_out.flatten(start_dim=1)\n",
        "    #print(y.shape)\n",
        "    y = self.fc(y)\n",
        "    return y"
      ],
      "execution_count": null,
      "outputs": []
    },
    {
      "cell_type": "code",
      "metadata": {
        "colab": {
          "base_uri": "https://localhost:8080/"
        },
        "id": "cb6DoGaP31md",
        "outputId": "d29c498d-7bb0-4a13-aea0-20a181cdec66"
      },
      "source": [
        "model = CNN()\n"
      ],
      "execution_count": null,
      "outputs": [
        {
          "output_type": "stream",
          "name": "stdout",
          "text": [
            "Red creada\n",
            "arquitectura:\n",
            "CNN(\n",
            "  (conv1): Sequential(\n",
            "    (0): Conv2d(1, 4, kernel_size=(3, 3), stride=(1, 1), padding=same)\n",
            "    (1): Tanh()\n",
            "    (2): MaxPool2d(kernel_size=2, stride=2, padding=0, dilation=1, ceil_mode=False)\n",
            "  )\n",
            "  (drop): Dropout2d(p=0.7, inplace=False)\n",
            "  (conv2): Sequential(\n",
            "    (0): Conv2d(4, 8, kernel_size=(3, 3), stride=(1, 1), padding=same)\n",
            "    (1): Tanh()\n",
            "    (2): MaxPool2d(kernel_size=2, stride=2, padding=0, dilation=1, ceil_mode=False)\n",
            "  )\n",
            "  (fc): Linear(in_features=392, out_features=10, bias=True)\n",
            ")\n",
            "Número total de capas de CNN (conv+act+polling) + finales :  4\n",
            "Número total de parámetros a entrenar:  4266\n"
          ]
        }
      ]
    },
    {
      "cell_type": "markdown",
      "metadata": {
        "id": "Z4tEn-XqHVZ7"
      },
      "source": [
        "## 4. Veamos que las dimensiones sean consistentes."
      ]
    },
    {
      "cell_type": "code",
      "source": [
        "torchinfo.summary(model, input_size=( 12, 1, 28, 28))"
      ],
      "metadata": {
        "colab": {
          "base_uri": "https://localhost:8080/"
        },
        "id": "q44d3Ftwokla",
        "outputId": "8dac78b1-22a8-49cb-8439-447f47ae557a"
      },
      "execution_count": null,
      "outputs": [
        {
          "output_type": "execute_result",
          "data": {
            "text/plain": [
              "==========================================================================================\n",
              "Layer (type:depth-idx)                   Output Shape              Param #\n",
              "==========================================================================================\n",
              "CNN                                      [12, 10]                  --\n",
              "├─Sequential: 1-1                        [12, 4, 14, 14]           --\n",
              "│    └─Conv2d: 2-1                       [12, 4, 28, 28]           40\n",
              "│    └─Tanh: 2-2                         [12, 4, 28, 28]           --\n",
              "│    └─MaxPool2d: 2-3                    [12, 4, 14, 14]           --\n",
              "├─Dropout2d: 1-2                         [12, 4, 14, 14]           --\n",
              "├─Sequential: 1-3                        [12, 8, 7, 7]             --\n",
              "│    └─Conv2d: 2-4                       [12, 8, 14, 14]           296\n",
              "│    └─Tanh: 2-5                         [12, 8, 14, 14]           --\n",
              "│    └─MaxPool2d: 2-6                    [12, 8, 7, 7]             --\n",
              "├─Dropout2d: 1-4                         [12, 8, 7, 7]             --\n",
              "├─Linear: 1-5                            [12, 10]                  3,930\n",
              "==========================================================================================\n",
              "Total params: 4,266\n",
              "Trainable params: 4,266\n",
              "Non-trainable params: 0\n",
              "Total mult-adds (M): 1.12\n",
              "==========================================================================================\n",
              "Input size (MB): 0.04\n",
              "Forward/backward pass size (MB): 0.45\n",
              "Params size (MB): 0.02\n",
              "Estimated Total Size (MB): 0.51\n",
              "=========================================================================================="
            ]
          },
          "metadata": {},
          "execution_count": 23
        }
      ]
    },
    {
      "cell_type": "markdown",
      "metadata": {
        "id": "eoB3GvDtGUgY"
      },
      "source": [
        "## 5. Armo las funciones necesarias"
      ]
    },
    {
      "cell_type": "code",
      "metadata": {
        "id": "7fM09lfI74jQ"
      },
      "source": [
        "# función de entrenamiento\n",
        "def fit(model, dataloader, epochs=15):\n",
        "    # enviamos el modelo al device\n",
        "    model.to(device)\n",
        "    # definimo optimizer y la función de pérdida\n",
        "    optimizer = torch.optim.Adam(model.parameters(), lr=1e-4)\n",
        "    criterion = torch.nn.CrossEntropyLoss()\n",
        "    # preparamos listas para guardar las loss y la acc a lo largo de la epocas\n",
        "    epoch_t_loss = []\n",
        "    epoch_v_loss = []\n",
        "    epoch_t_acc = []\n",
        "    epoch_v_acc = []\n",
        "    # iteramos en las epocas\n",
        "    for epoch in range(1, epochs+1):\n",
        "        # ponemos el modelo en train\n",
        "        model.train()\n",
        "        # listas de loss y acc de train para esta epoca\n",
        "        # así despues calculamos la media\n",
        "        # por que el dataset lo pasamos de a batches\n",
        "        train_loss, train_acc = [], []\n",
        "        bar = tqdm(dataloader['train'])\n",
        "        for batch in bar:\n",
        "            X, y = batch  # sacamos X e y del batch\n",
        "            X, y = X.to(device), y.to(device) # lo enviamos al device\n",
        "            optimizer.zero_grad() # llevamos optimizer a zero\n",
        "            y_hat = model(X)  # corremos el modelo y vemos su predicción\n",
        "            loss = criterion(y_hat, y)  # calculamos la pérdida\n",
        "            loss.backward() # back-propagations\n",
        "            optimizer.step()  # step del optimizer\n",
        "            train_loss.append(loss.item()) # vamos guardando la pérdida de este batch, en la perdida de la epoca\n",
        "            # calculo de la acc\n",
        "            acc = (y == torch.argmax(y_hat, axis=1)).sum().item() / len(y)\n",
        "            train_acc.append(acc) # vamos guardando la acc de este batch, en la acc de la epoca\n",
        "            # seteamos descriptores en la barra\n",
        "            bar.set_description(f\"loss {np.mean(train_loss):.5f} acc {np.mean(train_acc):.5f}\")\n",
        "\n",
        "        # luego de pasar todo el batch, guardamos la perdida y acc media del train\n",
        "        epoch_t_loss.append(np.mean(train_loss))\n",
        "        epoch_t_acc.append(np.mean(train_acc))\n",
        "\n",
        "\n",
        "        # ahora viene es test\n",
        "        bar = tqdm(dataloader['test'])\n",
        "        # listas de loss y acc de test para esta epoca\n",
        "        # así despues calculamos la media\n",
        "        # por que el dataset lo pasamos de a batches\n",
        "        val_loss, val_acc = [], []\n",
        "        # ponemos en eval el modelo\n",
        "        model.eval()\n",
        "        with torch.no_grad():\n",
        "            for batch in bar:\n",
        "                X, y = batch\n",
        "                X, y = X.to(device), y.to(device)\n",
        "                y_hat = model(X)\n",
        "                loss = criterion(y_hat, y)\n",
        "                val_loss.append(loss.item())\n",
        "                acc = (y == torch.argmax(y_hat, axis=1)).sum().item() / len(y)\n",
        "                val_acc.append(acc)\n",
        "                bar.set_description(f\"val_loss {np.mean(val_loss):.5f} val_acc {np.mean(val_acc):.5f}\")\n",
        "        print(f\"Epoch {epoch}/{epochs} loss {np.mean(train_loss):.5f} val_loss {np.mean(val_loss):.5f} acc {np.mean(train_acc):.5f} val_acc {np.mean(val_acc):.5f}\")\n",
        "\n",
        "        epoch_v_loss.append(np.mean(val_loss))\n",
        "        epoch_v_acc.append(np.mean(val_acc))\n",
        "\n",
        "    plt.figure()\n",
        "    plt.plot(epoch_t_loss, 'r')\n",
        "    plt.plot(epoch_v_loss, 'g')\n",
        "    plt.title('loss')\n",
        "    plt.legend(['train loss', 'val loss'])\n",
        "    plt.grid()\n",
        "\n",
        "    plt.figure()\n",
        "    plt.plot(epoch_t_acc, 'r')\n",
        "    plt.plot(epoch_v_acc, 'g')\n",
        "    plt.title('acc')\n",
        "    plt.legend(['train acc', 'val acc'])\n",
        "    plt.grid()\n",
        "    plt.show()"
      ],
      "execution_count": null,
      "outputs": []
    },
    {
      "cell_type": "markdown",
      "metadata": {
        "id": "zagkkBhIG9Kc"
      },
      "source": [
        "## 6. Entreno la red"
      ]
    },
    {
      "cell_type": "code",
      "metadata": {
        "colab": {
          "base_uri": "https://localhost:8080/"
        },
        "id": "CYHKN7XH7-Kk",
        "outputId": "fd20c139-c003-42d0-90db-86cb9bd24af5"
      },
      "source": [
        "fit(model, dataloader)"
      ],
      "execution_count": null,
      "outputs": [
        {
          "output_type": "stream",
          "name": "stderr",
          "text": [
            "loss 2.05428 acc 0.29339: 100%|██████████| 938/938 [00:19<00:00, 47.93it/s]\n",
            "val_loss 1.39334 val_acc 0.77617: 100%|██████████| 157/157 [00:02<00:00, 54.24it/s]\n"
          ]
        },
        {
          "output_type": "stream",
          "name": "stdout",
          "text": [
            "Epoch 1/15 loss 2.05428 val_loss 1.39334 acc 0.29339 val_acc 0.77617\n"
          ]
        },
        {
          "output_type": "stream",
          "name": "stderr",
          "text": [
            "loss 1.51278 acc 0.52572: 100%|██████████| 938/938 [00:20<00:00, 46.24it/s]\n",
            "val_loss 0.77813 val_acc 0.83788: 100%|██████████| 157/157 [00:02<00:00, 55.40it/s]\n"
          ]
        },
        {
          "output_type": "stream",
          "name": "stdout",
          "text": [
            "Epoch 2/15 loss 1.51278 val_loss 0.77813 acc 0.52572 val_acc 0.83788\n"
          ]
        },
        {
          "output_type": "stream",
          "name": "stderr",
          "text": [
            "loss 1.28463 acc 0.58452: 100%|██████████| 938/938 [00:19<00:00, 48.14it/s]\n",
            "val_loss 0.59745 val_acc 0.86654: 100%|██████████| 157/157 [00:02<00:00, 55.36it/s]\n"
          ]
        },
        {
          "output_type": "stream",
          "name": "stdout",
          "text": [
            "Epoch 3/15 loss 1.28463 val_loss 0.59745 acc 0.58452 val_acc 0.86654\n"
          ]
        },
        {
          "output_type": "stream",
          "name": "stderr",
          "text": [
            "loss 1.20716 acc 0.60379: 100%|██████████| 938/938 [00:19<00:00, 48.59it/s]\n",
            "val_loss 0.51683 val_acc 0.87550: 100%|██████████| 157/157 [00:02<00:00, 57.14it/s]\n"
          ]
        },
        {
          "output_type": "stream",
          "name": "stdout",
          "text": [
            "Epoch 4/15 loss 1.20716 val_loss 0.51683 acc 0.60379 val_acc 0.87550\n"
          ]
        },
        {
          "output_type": "stream",
          "name": "stderr",
          "text": [
            "loss 1.15474 acc 0.61794: 100%|██████████| 938/938 [00:19<00:00, 48.54it/s]\n",
            "val_loss 0.46989 val_acc 0.88097: 100%|██████████| 157/157 [00:03<00:00, 45.16it/s]\n"
          ]
        },
        {
          "output_type": "stream",
          "name": "stdout",
          "text": [
            "Epoch 5/15 loss 1.15474 val_loss 0.46989 acc 0.61794 val_acc 0.88097\n"
          ]
        },
        {
          "output_type": "stream",
          "name": "stderr",
          "text": [
            "loss 1.12811 acc 0.62382: 100%|██████████| 938/938 [00:20<00:00, 46.19it/s]\n",
            "val_loss 0.43992 val_acc 0.88515: 100%|██████████| 157/157 [00:03<00:00, 46.69it/s]\n"
          ]
        },
        {
          "output_type": "stream",
          "name": "stdout",
          "text": [
            "Epoch 6/15 loss 1.12811 val_loss 0.43992 acc 0.62382 val_acc 0.88515\n"
          ]
        },
        {
          "output_type": "stream",
          "name": "stderr",
          "text": [
            "loss 1.10360 acc 0.63151: 100%|██████████| 938/938 [00:19<00:00, 49.08it/s]\n",
            "val_loss 0.41779 val_acc 0.89112: 100%|██████████| 157/157 [00:02<00:00, 55.98it/s]\n"
          ]
        },
        {
          "output_type": "stream",
          "name": "stdout",
          "text": [
            "Epoch 7/15 loss 1.10360 val_loss 0.41779 acc 0.63151 val_acc 0.89112\n"
          ]
        },
        {
          "output_type": "stream",
          "name": "stderr",
          "text": [
            "loss 1.08452 acc 0.63293: 100%|██████████| 938/938 [00:19<00:00, 47.33it/s]\n",
            "val_loss 0.39994 val_acc 0.89291: 100%|██████████| 157/157 [00:02<00:00, 56.15it/s]\n"
          ]
        },
        {
          "output_type": "stream",
          "name": "stdout",
          "text": [
            "Epoch 8/15 loss 1.08452 val_loss 0.39994 acc 0.63293 val_acc 0.89291\n"
          ]
        },
        {
          "output_type": "stream",
          "name": "stderr",
          "text": [
            "loss 1.07585 acc 0.63556: 100%|██████████| 938/938 [00:19<00:00, 48.06it/s]\n",
            "val_loss 0.38648 val_acc 0.89480: 100%|██████████| 157/157 [00:02<00:00, 56.62it/s]\n"
          ]
        },
        {
          "output_type": "stream",
          "name": "stdout",
          "text": [
            "Epoch 9/15 loss 1.07585 val_loss 0.38648 acc 0.63556 val_acc 0.89480\n"
          ]
        },
        {
          "output_type": "stream",
          "name": "stderr",
          "text": [
            "loss 1.06010 acc 0.64131: 100%|██████████| 938/938 [00:18<00:00, 49.42it/s]\n",
            "val_loss 0.37732 val_acc 0.89729: 100%|██████████| 157/157 [00:03<00:00, 48.35it/s]\n"
          ]
        },
        {
          "output_type": "stream",
          "name": "stdout",
          "text": [
            "Epoch 10/15 loss 1.06010 val_loss 0.37732 acc 0.64131 val_acc 0.89729\n"
          ]
        },
        {
          "output_type": "stream",
          "name": "stderr",
          "text": [
            "loss 1.05064 acc 0.64292: 100%|██████████| 938/938 [00:18<00:00, 49.66it/s]\n",
            "val_loss 0.36624 val_acc 0.89918: 100%|██████████| 157/157 [00:03<00:00, 51.43it/s]\n"
          ]
        },
        {
          "output_type": "stream",
          "name": "stdout",
          "text": [
            "Epoch 11/15 loss 1.05064 val_loss 0.36624 acc 0.64292 val_acc 0.89918\n"
          ]
        },
        {
          "output_type": "stream",
          "name": "stderr",
          "text": [
            "loss 1.05127 acc 0.64214: 100%|██████████| 938/938 [00:19<00:00, 48.02it/s]\n",
            "val_loss 0.35971 val_acc 0.90078: 100%|██████████| 157/157 [00:02<00:00, 55.49it/s]\n"
          ]
        },
        {
          "output_type": "stream",
          "name": "stdout",
          "text": [
            "Epoch 12/15 loss 1.05127 val_loss 0.35971 acc 0.64214 val_acc 0.90078\n"
          ]
        },
        {
          "output_type": "stream",
          "name": "stderr",
          "text": [
            "loss 1.03857 acc 0.64735:  28%|██▊       | 262/938 [00:05<00:14, 45.15it/s]"
          ]
        }
      ]
    },
    {
      "cell_type": "markdown",
      "metadata": {
        "id": "dHcr6aDtHNfc"
      },
      "source": [
        "## 7. Vemos que funcione."
      ]
    },
    {
      "cell_type": "code",
      "metadata": {
        "id": "k_jFvJ603PC-"
      },
      "source": [
        "# corremos 1 dato, a ver como lo clasifica...\n",
        "# generamos un batch del dataloader\n",
        "test_features, test_labels = next(iter(dataloader['test']))\n",
        "\n",
        "# item a usar k\n",
        "k = 2\n",
        "\n",
        "# verifico las dimensiones y los valores que toma algun pixel.\n",
        "samp_img = test_features[k]\n",
        "print(samp_img.shape)\n",
        "print(samp_img[0][0][0])\n",
        "print(torch.max(samp_img))\n",
        "print(torch.min(samp_img))\n",
        "\n",
        "# ploteo la imagen\n",
        "plt.imshow(samp_img.squeeze(), cmap='gray')\n",
        "plt.show()\n",
        "\n",
        "# preparo para pasarla a la red (model) asi predice.\n",
        "samp_imp = samp_img.unsqueeze(0) # agrego la batch dim\n",
        "samp_img = samp_img.unsqueeze(0).to(device)\n",
        "print('Tamaño imagen de entrada a red: ', samp_img.shape)\n",
        "\n",
        "# la paso al modelo\n",
        "model.to(device)\n",
        "model.eval()\n",
        "y_hat = model(samp_img)\n",
        "print('Predición del modelo:')\n",
        "print(y_hat.detach())\n",
        "print()\n",
        "print('softmax de predicción:')\n",
        "print(torch.nn.functional.softmax(y_hat, dim=1).detach())\n",
        "print()\n",
        "print(f'El numero es un: ', torch.argmax(y_hat, axis=1).item())\n"
      ],
      "execution_count": null,
      "outputs": []
    },
    {
      "cell_type": "markdown",
      "metadata": {
        "id": "6ZM8DWqENNDh"
      },
      "source": [
        "\n",
        "\n",
        "\n",
        "# EJERCICIO NRO 1\n",
        "\n",
        "## Probemos con un número nuestro!\n",
        "Primero lo dibujamos en el paint con un tamaño próximo a 28x28 pixeles\n",
        "(el tamaño del papel puede ser aproximado)...\n",
        "Después haremos un `resize`.\n",
        "Usar un marcador grueso que pinte varios pixeles!!!!"
      ]
    },
    {
      "cell_type": "markdown",
      "metadata": {
        "id": "vAQboG3CIILq"
      },
      "source": [
        "Cargamos el archivo hecho a mano"
      ]
    },
    {
      "cell_type": "code",
      "metadata": {
        "id": "ju1kgUR0GUE_"
      },
      "source": [
        "# lo leemos\n",
        "num_ex = torchvision.io.read_image('cinco.png')\n",
        "#num_ex= torchvision.io.read_image('/content/drive/My Drive/CIA_marcos/deep_learning/clase_5/tres.png')"
      ],
      "execution_count": null,
      "outputs": []
    },
    {
      "cell_type": "markdown",
      "metadata": {
        "id": "_qi4mD6qIKon"
      },
      "source": [
        "Veamos el tamaño, datatype y el valor de 1 pixel."
      ]
    },
    {
      "cell_type": "code",
      "metadata": {
        "id": "dNQ4v03sGWVx"
      },
      "source": [
        "print('shape imagen: ', num_ex.shape)\n",
        "print('data type imagen: ', num_ex.dtype)\n",
        "# convertimos a float\n",
        "num_ex = num_ex.float()\n",
        "print('nuevo data type: ', num_ex.dtype)\n",
        "print('valor pixel superior izq: ', num_ex[0][0][0])"
      ],
      "execution_count": null,
      "outputs": []
    },
    {
      "cell_type": "markdown",
      "metadata": {
        "id": "RjEbxOyxIZ10"
      },
      "source": [
        "Realizamos un conjunto de transformaciones para llevar la imagen al valor deseado:\n",
        "- resize a 28x28\n",
        "- convertir a escala de grises\n",
        "- escalar ente 0 y 1 (dividimos por 255)\n",
        "- normalizar"
      ]
    },
    {
      "cell_type": "code",
      "metadata": {
        "id": "TyWn2dmyJVLn"
      },
      "source": [
        "adaptacion = torchvision.transforms.Compose([\n",
        "                                             torchvision.transforms.Resize(size=(28,28)),\n",
        "                                             torchvision.transforms.Grayscale(num_output_channels=1), #<---------- IMPORTANTE!\n",
        "                                             torchvision.transforms.Normalize((0,), (255,))#,#<--------- lo escalo entre 0 y 1\n",
        "                                             #torchvision.transforms.Normalize((0.1307,), (0.3081,)), #<---------- IMPORTANTE!\n",
        "                                            ])"
      ],
      "execution_count": null,
      "outputs": []
    },
    {
      "cell_type": "markdown",
      "source": [
        "Una ultima transformación (que no se pudo colocar dentro del compose) es la de invertir los colores, ya que MNIST tiene fondo negro con letra blanca."
      ],
      "metadata": {
        "id": "gh6EGzccktGH"
      }
    },
    {
      "cell_type": "code",
      "metadata": {
        "id": "e5yVpzjgKSD-"
      },
      "source": [
        "# aplicamos la transformación\n",
        "num_ex_adap = adaptacion(num_ex)\n",
        "\n",
        "# para invertir el color (blanco y negro)\n",
        "num_ex_adap = torchvision.transforms.functional.invert(num_ex_adap)\n",
        "\n",
        "print('nuevo tamaño de imagen: ', num_ex_adap.shape)\n",
        "print('pixel [0,0]: ',num_ex_adap[0][0][0])\n",
        "print('pixel máximo: ', torch.max(num_ex_adap))\n",
        "print('pixel mínimo: ', torch.min(num_ex_adap))"
      ],
      "execution_count": null,
      "outputs": []
    },
    {
      "cell_type": "markdown",
      "metadata": {
        "id": "QOaOA8JYIioV"
      },
      "source": [
        "Veamos como quedó"
      ]
    },
    {
      "cell_type": "code",
      "metadata": {
        "id": "B2h5r-FqKz6D"
      },
      "source": [
        "# ponemos el squeeze para eliminar el canal (1ra dimension)\n",
        "plt.imshow(num_ex_adap.squeeze(), cmap='gray')\n",
        "plt.show()"
      ],
      "execution_count": null,
      "outputs": []
    },
    {
      "cell_type": "markdown",
      "metadata": {
        "id": "WaiEjwycIlh9"
      },
      "source": [
        "Lo pasamos por la red...\n",
        "RECORDAR DE MANEJAR TODO EN EL MISMO `DEVICE`"
      ]
    },
    {
      "cell_type": "code",
      "metadata": {
        "id": "XFVUKwe0MxiE"
      },
      "source": [
        "# le agregamos el batch y lo mandamos a device\n",
        "num_ex_adap_batch = num_ex_adap.unsqueeze(0).cpu()\n",
        "print('Tamaño entrada:   ',num_ex_adap_batch.shape)\n",
        "\n",
        "# enviamos al modelo al device\n",
        "model.cpu()\n",
        "model.eval()\n",
        "# pasamos la entrada al modelo\n",
        "y_hat = model(num_ex_adap_batch)\n",
        "print()\n",
        "print('Salida red:  ')\n",
        "print(y_hat.detach())\n",
        "print()\n",
        "print('Salida softmax(salida red):')\n",
        "print(torch.nn.functional.softmax(y_hat, dim=1).detach())\n",
        "print()\n",
        "print(f'El numero es un: ', torch.argmax(y_hat, axis=1).item())"
      ],
      "execution_count": null,
      "outputs": []
    },
    {
      "cell_type": "markdown",
      "source": [
        "El mismo proceso en 1 sola celda."
      ],
      "metadata": {
        "id": "xBd1u15ArKqN"
      }
    },
    {
      "cell_type": "code",
      "source": [
        "# todo junto\n",
        "num_ex = torchvision.io.read_image('ocho.png').float()\n",
        "num_ex_adap = adaptacion(num_ex)\n",
        "num_ex_adap = torchvision.transforms.functional.invert(num_ex_adap)\n",
        "# le agregamos el batch y lo mandamos a device\n",
        "num_ex_adap_batch = num_ex_adap.unsqueeze(0).cpu()\n",
        "model.cpu().eval()\n",
        "\n",
        "y_hat = model(num_ex_adap_batch)\n",
        "print(f'El numero es un: ', torch.argmax(y_hat, axis=1).item())"
      ],
      "metadata": {
        "id": "pqMeWUIymQ0s"
      },
      "execution_count": null,
      "outputs": []
    },
    {
      "cell_type": "code",
      "source": [],
      "metadata": {
        "id": "LSTRStMDd5vu"
      },
      "execution_count": null,
      "outputs": []
    }
  ]
}